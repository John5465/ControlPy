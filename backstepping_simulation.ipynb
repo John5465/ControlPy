{
 "cells": [
  {
   "cell_type": "markdown",
   "metadata": {},
   "source": [
    "> Ren C, Ji J H, Yan H Y, et al. A backstepping control method for mobile robot path tracking[C]//3rd Annual International Conference on Mechanics and Mechanical Engineering (MME 2016). Atlantis Press, 2016: 680-687.\n",
    "\n",
    "定义世界坐标系下的：小车定位$\\begin{bmatrix}{x},{y},{\\theta}\\end{bmatrix}$，小车线速度和角速度$\\begin{bmatrix}v, w\\end{bmatrix}$。参考点(reference point)：$\\begin{bmatrix}{x_r},{y_r},{\\theta_r}\\end{bmatrix}$，参考速度：$\\begin{bmatrix}v_r, w_r\\end{bmatrix}$。\n",
    "\n",
    "定义误差模型（参考点相对于定位点的误差）：\n",
    "$$\n",
    "\\begin{bmatrix} {\\dot x_e} \\\\ {\\dot y_e} \\\\ {\\dot \\theta_e} \\end{bmatrix} =\n",
    "\\begin{bmatrix} {w \\cdot y_e -v + v_r \\cdot cos\\theta_e} \\\\\n",
    "                {- w \\cdot x_e + v_r \\cdot sin\\theta_e} \\\\\n",
    "                {w_r - w} \\end{bmatrix}\n",
    "\\tag{1}$$\n",
    "\n",
    "论文根据Lyapunov第二法，基于backstepping得到的控制律\n",
    "\n",
    "$$\\begin{align}\n",
    "v &= v_r cos\\theta_e \\nonumber \\\\\n",
    "  &+ a_1 sin[arctan(w)wx_e - a_1 v_r sin(arctan(w)) sin\\theta_e - a_1 cos(arctan(w))] \\frac{1}{1+w^2}{\\dot w}y_e \\nonumber \\\\\n",
    "  &+ a2[x_e - a_1 sin(arctan(w))y_e] \\tag{2} \\\\\n",
    "w &= w_r + 2 a_3 y_e v_r cos(\\frac{\\theta_e}{2}) + a_4 sin(\\frac{\\theta_e}{2}) \\tag{3}\n",
    "\\end{align}$$"
   ]
  },
  {
   "cell_type": "code",
   "execution_count": 1,
   "metadata": {},
   "outputs": [],
   "source": [
    "import numpy as np\n",
    "import matplotlib.pyplot as plt\n",
    "%matplotlib inline\n",
    "%config InlineBackend.figure_format = 'svg'"
   ]
  },
  {
   "cell_type": "code",
   "execution_count": null,
   "metadata": {},
   "outputs": [],
   "source": [
    "def R_mat(x):\n",
    "\treturn np.array([[np.cos(x), -np.sin(x)],\n",
    "\t\t\t\t     [np.sin(x),  np.cos(x)]])\n",
    "\n",
    "def normalize_2pi(x):\n",
    "\tpi = np.pi\n",
    "\tx = x - np.floor(x / (2*pi)) * 2 * pi\n",
    "\treturn x - 2*pi if x >= pi else x\n",
    "\n",
    "class WheeledMobileRobot(object):\n",
    "\tdef __init__(self, init_pos=[0., 0., 0.], ts=0.02) -> None:\n",
    "\t\tself._pos_now = init_pos\n",
    "\t\tself._ts = ts\n",
    "\n",
    "\tdef update_odom(self, v, w):\n",
    "\t\tts = self._ts\n",
    "\t\tdelta_pos = [v * ts, 0., w * ts]\n",
    "\t\tpos_pre = self._pos_now\n",
    "\t\ttheta_mean = normalize_2pi(pos_pre[2] + 0.5 * delta_pos[2])\n",
    "\t\tpos_new = pos_pre[0:2] + R_mat(theta_mean) @ np.array(delta_pos[0:2]).T\n",
    "\t\tself._pos_now[0:2] = pos_new.tolist()\n",
    "\t\tself._pos_now[2]   = normalize_2pi(pos_pre[2] + delta_pos[2])\n",
    "\n",
    "\t@property\n",
    "\tdef pos_now(self):\n",
    "\t\treturn self._pos_now\n"
   ]
  },
  {
   "cell_type": "code",
   "execution_count": 2,
   "metadata": {},
   "outputs": [
    {
     "ename": "NameError",
     "evalue": "name 'WheeledMobileRobot' is not defined",
     "output_type": "error",
     "traceback": [
      "\u001b[1;31m---------------------------------------------------------------------------\u001b[0m",
      "\u001b[1;31mNameError\u001b[0m                                 Traceback (most recent call last)",
      "\u001b[1;32md:\\WorkSpace\\repository\\github\\control_py\\backstepping_simulation.ipynb Cell 4\u001b[0m line \u001b[0;36m2\n\u001b[0;32m      <a href='vscode-notebook-cell:/d%3A/WorkSpace/repository/github/control_py/backstepping_simulation.ipynb#W5sZmlsZQ%3D%3D?line=0'>1</a>\u001b[0m ts \u001b[39m=\u001b[39m \u001b[39m0.02\u001b[39m\n\u001b[1;32m----> <a href='vscode-notebook-cell:/d%3A/WorkSpace/repository/github/control_py/backstepping_simulation.ipynb#W5sZmlsZQ%3D%3D?line=1'>2</a>\u001b[0m robot \u001b[39m=\u001b[39m WheeledMobileRobot(init_pos\u001b[39m=\u001b[39m[\u001b[39m0.\u001b[39m, \u001b[39m0.\u001b[39m, \u001b[39m0.\u001b[39m], ts\u001b[39m=\u001b[39mts)\n\u001b[0;32m      <a href='vscode-notebook-cell:/d%3A/WorkSpace/repository/github/control_py/backstepping_simulation.ipynb#W5sZmlsZQ%3D%3D?line=2'>3</a>\u001b[0m t, t_end \u001b[39m=\u001b[39m \u001b[39m0.\u001b[39m, \u001b[39m10.\u001b[39m\n\u001b[0;32m      <a href='vscode-notebook-cell:/d%3A/WorkSpace/repository/github/control_py/backstepping_simulation.ipynb#W5sZmlsZQ%3D%3D?line=3'>4</a>\u001b[0m pos_traj \u001b[39m=\u001b[39m []\n",
      "\u001b[1;31mNameError\u001b[0m: name 'WheeledMobileRobot' is not defined"
     ]
    }
   ],
   "source": [
    "ts = 0.02\n",
    "robot = WheeledMobileRobot(init_pos=[0., 0., 0.], ts=ts)\n",
    "t, t_end = 0., 10.\n",
    "pos_traj = []\n",
    "while t < t_end:\n",
    "\tv, w = 1., 1.\n",
    "\trobot.update_odom(v, w)\n",
    "\tpos_traj.append(robot.pos_now.copy())\n",
    "\tt += ts\n",
    "\n",
    "pos_traj = np.array(pos_traj)\n",
    "\n",
    "if True:\n",
    "\tfig, ax = plt.subplots()\n",
    "\tax.plot(pos_traj[:,0], pos_traj[:,1])"
   ]
  }
 ],
 "metadata": {
  "kernelspec": {
   "display_name": "base",
   "language": "python",
   "name": "python3"
  },
  "language_info": {
   "codemirror_mode": {
    "name": "ipython",
    "version": 3
   },
   "file_extension": ".py",
   "mimetype": "text/x-python",
   "name": "python",
   "nbconvert_exporter": "python",
   "pygments_lexer": "ipython3",
   "version": "3.11.3"
  }
 },
 "nbformat": 4,
 "nbformat_minor": 2
}
