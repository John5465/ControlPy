{
 "cells": [
  {
   "cell_type": "markdown",
   "metadata": {},
   "source": [
    "# 一、问题定义"
   ]
  },
  {
   "cell_type": "markdown",
   "metadata": {},
   "source": [
    "定义机器人的定位为$[x_r, y_r, \\theta_r]$，跟踪目标为$[x_d, y_d, \\theta_d]$。跟踪误差可定义为：\n",
    "\n",
    "$$\\begin{bmatrix}{x_e}\\\\{y_e}\\\\{\\theta_e}\\end{bmatrix} = \n",
    "  \\begin{bmatrix}{cos\\theta_r}&{sin\\theta_r}&{0}\\\\{-sin\\theta_r}&{cos\\theta_r}&{0}\\\\{0}&{0}&{1}\\end{bmatrix} \\cdot \n",
    "  \\begin{bmatrix}{x_d - x_r}\\\\{y_d-y_r}\\\\{\\theta_d-\\theta_r} \\tag{1-1}\\end{bmatrix}$$\n",
    "\n",
    "矩阵展开\n",
    "$$\\begin{align}\n",
    "&x_e =  cos\\theta_r \\cdot (x_d-x_r) + sin\\theta_r \\cdot (y_d-y_r) \\tag{1-1a} \\\\\n",
    "&y_e = -sin\\theta_r \\cdot (x_d-x_r) + cos\\theta_r \\cdot (y_d-y_r) \\tag{1-1b} \\\\\n",
    "&\\theta_r = \\theta_d - \\theta_r                                   \\tag{1-1c}\n",
    "\\end{align}$$\n",
    "\n",
    "式(1-1)的微分为\n",
    "$$\\begin{align}\n",
    "\\begin{bmatrix}{\\dot x_r}\\\\{\\dot y_r}\\\\{\\dot \\theta_r}\\end{bmatrix} = \n",
    "\\begin{bmatrix}{cos\\theta_r} &{0}\\\\{sin\\theta_r} &{0}\\\\{0} &{1}\\end{bmatrix} \\cdot\n",
    "\\begin{bmatrix}{v_r}\\\\{w_r}\\end{bmatrix}\n",
    "\\tag{1-2}\\end{align}$$"
   ]
  },
  {
   "cell_type": "markdown",
   "metadata": {},
   "source": [
    "**跟踪误差的微分计算**\n",
    "\n",
    "纵向误差微分:\n",
    "$$\\begin{align}\n",
    "\\dot x_e &= -sin\\theta_r \\cdot \\dot\\theta_r \\cdot (x_d-x_r) + cos\\theta_r \\cdot (\\dot x_d- \\dot x_r) + cos\\theta_r \\cdot \\dot\\theta_r \\cdot (y_d-y_r) + sin\\theta_r \\cdot (\\dot y_d - \\dot y_r)\n",
    "\\tag{1-3}\\end{align}$$\n",
    "\n",
    "假设跟踪目标缓慢变化，有$\\dot x_d = 0$ 和 $\\dot y_d = 0$，则式(1-3)可以化为\n",
    "$$\\begin{align}\n",
    "\\dot x_e &= -sin\\theta_r \\cdot \\dot\\theta_r \\cdot (x_d-x_r) - cos\\theta_r \\cdot \\dot x_r + cos\\theta_r \\cdot \\dot\\theta_r \\cdot (y_d-y_r) - sin\\theta_r \\cdot \\dot y_r \\nonumber \\\\\n",
    "         &= \\dot\\theta_r \\cdot (-sin\\theta_r \\cdot (x_d-x_r) + cos\\theta_r \\cdot (y_d-y_r)) - \\dot x_r \\cdot cos\\theta_r - \\dot y_r \\cdot sin\\theta_r \\nonumber \\\\\n",
    "         &= \\dot\\theta_r \\cdot y_e - (\\dot x_r \\cdot cos\\theta_r + \\dot y_r \\cdot sin\\theta_r)\n",
    "\\tag{1-3}\\end{align}$$\n",
    "\n",
    "将式(1-2)的 $\\dot x_r = v_r \\cdot cos\\theta_r$ 和 $\\dot y_r = v_r \\cdot sin\\theta_r $ 代入式(1-4)：\n",
    "$$\\begin{align}\n",
    "\\dot x_e &= \\dot\\theta_r \\cdot y_e - (v_r \\cdot cos\\theta_r \\cdot cos\\theta_r + v_r \\cdot sin\\theta_r \\cdot sin\\theta_r) \\nonumber \\\\\n",
    "         &= \\dot\\theta_r \\cdot y_e - v_r \\nonumber \\\\\n",
    "         &= w_r \\cdot y_e - v_r\n",
    "\\tag{1-3}\\end{align}$$\n",
    "\n",
    "横向误差微分：\n",
    "\n",
    "$$\\begin{align}\n",
    "\\dot y_e &= -cos\\theta_r \\cdot \\dot \\theta_r \\cdot (x_d -x_r) - sin\\theta_r \\cdot (\\dot x_d - \\dot x_r) - sin\\theta_r \\cdot \\dot \\theta_r \\cdot (y_d - y_r) + cos\\theta_r \\cdot (\\dot y_d - \\dot y_r) \\nonumber \\\\\n",
    "         &= -\\dot\\theta_r \\cdot (cos\\theta_r \\cdot (x_d - x_r) + sin\\theta_r \\cdot (y_d - y_r)) + v_r \\cdot sin\\theta_r \\cdot cos\\theta_r - v_r \\cdot cos\\theta_r \\cdot sin\\theta_r \\nonumber \\\\\n",
    "         &= -\\dot\\theta_r \\cdot x_e \\nonumber \\\\\n",
    "         &= -w_r \\cdot x_e\n",
    "\\tag{1-4}\\end{align}$$\n",
    "\n",
    "角度误差微分：\n",
    "$$\\begin{align}\n",
    "\\dot \\theta_e &= \\dot\\theta_d - \\dot\\theta_r \\nonumber = - \\dot\\theta_r = -w_r\n",
    "\\tag{1-5}\\end{align}$$\n",
    "\n",
    "整理可得：\n",
    "$$\\begin{align}\n",
    "\\dot x_e &= w_r \\cdot y_e - v_r \\tag{1-3} \\\\\n",
    "\\dot y_e &= -w_r \\cdot x_e      \\tag{1-4} \\\\\n",
    "\\dot \\theta_e &= -w_r         \\tag{1-5}\n",
    "\\end{align}$$"
   ]
  },
  {
   "cell_type": "code",
   "execution_count": 48,
   "metadata": {},
   "outputs": [],
   "source": [
    "\"\"\"\n",
    "根据上述微分方程定义差速底盘的状态方程\n",
    "\"\"\"\n",
    "import numpy as np\n",
    "\n",
    "class DiffChassis(object):\n",
    "    def __init__(self):\n",
    "        pass\n",
    "    \n",
    "    def f_state(self, X=[0., 0., 0., 0., 0.,], t=0.):\n",
    "        x, y, th, v, w = X\n",
    "        return [w*y - v, -w*x, -w, 0., 0.]\n",
    "    \n",
    "chassis = DiffChassis()"
   ]
  },
  {
   "cell_type": "code",
   "execution_count": 43,
   "metadata": {},
   "outputs": [],
   "source": [
    "\"\"\"\n",
    "相图\n",
    "\"\"\"\n",
    "import matplotlib.pyplot as plt\n",
    "from scipy.integrate import odeint\n",
    "\n",
    "x0 = [0., 0., 0., 0., 0.1]\n",
    "t_end = 10.\n",
    "\n",
    "tspan = np.arange(0, t_end, 0.1)\n",
    "sol = odeint(chassis.f_state, x0, tspan)\n",
    "\n"
   ]
  },
  {
   "cell_type": "code",
   "execution_count": 47,
   "metadata": {},
   "outputs": [
    {
     "data": {
      "text/plain": [
       "array([ 0.  , -0.01, -0.02, -0.03, -0.04, -0.05, -0.06, -0.07, -0.08,\n",
       "       -0.09, -0.1 , -0.11, -0.12, -0.13, -0.14, -0.15, -0.16, -0.17,\n",
       "       -0.18, -0.19, -0.2 , -0.21, -0.22, -0.23, -0.24, -0.25, -0.26,\n",
       "       -0.27, -0.28, -0.29, -0.3 , -0.31, -0.32, -0.33, -0.34, -0.35,\n",
       "       -0.36, -0.37, -0.38, -0.39, -0.4 , -0.41, -0.42, -0.43, -0.44,\n",
       "       -0.45, -0.46, -0.47, -0.48, -0.49, -0.5 , -0.51, -0.52, -0.53,\n",
       "       -0.54, -0.55, -0.56, -0.57, -0.58, -0.59, -0.6 , -0.61, -0.62,\n",
       "       -0.63, -0.64, -0.65, -0.66, -0.67, -0.68, -0.69, -0.7 , -0.71,\n",
       "       -0.72, -0.73, -0.74, -0.75, -0.76, -0.77, -0.78, -0.79, -0.8 ,\n",
       "       -0.81, -0.82, -0.83, -0.84, -0.85, -0.86, -0.87, -0.88, -0.89,\n",
       "       -0.9 , -0.91, -0.92, -0.93, -0.94, -0.95, -0.96, -0.97, -0.98,\n",
       "       -0.99])"
      ]
     },
     "execution_count": 47,
     "metadata": {},
     "output_type": "execute_result"
    }
   ],
   "source": [
    "sol[:, 2]"
   ]
  }
 ],
 "metadata": {
  "kernelspec": {
   "display_name": "Python 3 (ipykernel)",
   "language": "python",
   "name": "python3"
  },
  "language_info": {
   "codemirror_mode": {
    "name": "ipython",
    "version": 3
   },
   "file_extension": ".py",
   "mimetype": "text/x-python",
   "name": "python",
   "nbconvert_exporter": "python",
   "pygments_lexer": "ipython3",
   "version": "3.11.3"
  }
 },
 "nbformat": 4,
 "nbformat_minor": 2
}
