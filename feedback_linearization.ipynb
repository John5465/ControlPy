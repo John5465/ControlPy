{
 "cells": [
  {
   "cell_type": "markdown",
   "id": "f9edf221",
   "metadata": {},
   "source": [
    "**一维弹簧滑块系统**\n",
    "\n",
    "定义$x=x(t)$表示位移，$f(t)$为外力，系统方程：\n",
    "$$\n",
    "m\\ddot x+ax^3=f(t)\n",
    "\\tag{1}$$\n",
    "\n",
    "令$x_1=x$，$x_2=\\dot x$，$u=u(t)=f(t)$，系统的状态空间方程为\n",
    "$$\\begin{align}\n",
    "\\dot x_1 &= x_2 \\tag{2a} \\\\\n",
    "\\dot x_2 &= -\\frac{a}{m}x_1^3 + \\frac{1}{m} u \\tag{2b} \\\\\n",
    "\\end{align}$$\n",
    "\n",
    "引入误差量：\n",
    "$$e=x_{1d}-x_1 \\tag{3}$$\n",
    "\n",
    "对上式求微分：\n",
    "$$\\begin{align} \\dot e &= \\dot x_{1d} - \\dot x_{1} \\nonumber \\\\\n",
    "\t\t\t\t\t   &= \\dot x_{1d} - x_2 \\tag{4} \\end{align}$$"
   ]
  },
  {
   "cell_type": "markdown",
   "id": "f7d73802",
   "metadata": {},
   "source": [
    "设Lyapnov函数:\n",
    "$$\\begin{align} V_1 = \\frac{1}{2}e^2 \\tag{5} \\end{align}$$\n",
    "\n",
    "对上式求微分：\n",
    "$$\\begin{align} \\dot V_1 = \\tag{6} \\end{align}$$"
   ]
  }
 ],
 "metadata": {
  "kernelspec": {
   "display_name": "Python 3 (ipykernel)",
   "language": "python",
   "name": "python3"
  },
  "language_info": {
   "codemirror_mode": {
    "name": "ipython",
    "version": 3
   },
   "file_extension": ".py",
   "mimetype": "text/x-python",
   "name": "python",
   "nbconvert_exporter": "python",
   "pygments_lexer": "ipython3",
   "version": "3.11.3"
  }
 },
 "nbformat": 4,
 "nbformat_minor": 5
}
