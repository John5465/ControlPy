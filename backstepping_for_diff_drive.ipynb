{
 "cells": [
  {
   "cell_type": "markdown",
   "metadata": {},
   "source": [
    "定义世界坐标系下的：小车定位$\\begin{bmatrix}{x},{y},{\\theta}\\end{bmatrix}$，小车线速度和角速度$\\begin{bmatrix}v, w\\end{bmatrix}$。参考点(reference point)：$\\begin{bmatrix}{x_r},{y_r},{\\theta_r}\\end{bmatrix}$，参考速度：$\\begin{bmatrix}v_r, w_r\\end{bmatrix}$。  \n",
    "\n",
    "运动学方程：\n",
    "$$\\begin{align}\n",
    "\\begin{bmatrix} {\\dot x} \\\\ {\\dot y} \\\\ {\\dot \\theta}\\end{bmatrix} =\n",
    "\\begin{bmatrix} {cos\\theta} &{0} \\\\ {sin\\theta} &{0} \\\\ {0} &{1}\\end{bmatrix} \\cdot\n",
    "\\begin{bmatrix} {v} \\\\ {w}\\end{bmatrix}\n",
    "\\tag{1}\\end{align}$$"
   ]
  },
  {
   "cell_type": "markdown",
   "metadata": {},
   "source": [
    "> Dumitrascu, B., A. Filipescu, and V. Minzu. \"Backstepping control of wheeled mobile robots.\" 15th International Conference on System Theory, Control and Computing. IEEE, 2011.\n",
    "\n",
    "原文把跟踪误差描述为定位相对于参考点的误差，表示如下：\n",
    "\n",
    "$$\\begin{align}\n",
    "\\begin{bmatrix} {x_e} \\\\ {y_e} \\\\ {\\theta_e} \\end{bmatrix} = \n",
    "\\begin{bmatrix} {cos\\theta_r} &{sin\\theta_r} &{0} \\\\ {-sin\\theta_r} &{cos\\theta_r} &{0} \\\\ {0} &{0} &{1}\\end{bmatrix} \\cdot\n",
    "\\begin{bmatrix} {x - x_r} \\\\ {y - y_r} \\\\ \\theta - \\theta_r\\end{bmatrix}\n",
    "\\tag{2}\\end{align}$$\n",
    "\n",
    "展开式(2)：\n",
    "$$\\begin{align}\n",
    "x_e &=  cos\\theta_r \\cdot (x - x_r) + sin\\theta_r \\cdot (y - y_r) \\tag{2a} \\\\\n",
    "y_e &= -sin\\theta_r \\cdot (x - x_r) + cos\\theta_r \\cdot (y - y_r) \\tag{2b} \\\\\n",
    "\\theta_e &= \\theta - \\theta_r \\tag{2c}\n",
    "\\end{align}$$\n",
    "\n",
    "对式(2)求导：\n",
    "$$\\begin{align}\n",
    "\\dot x_e &= -{\\dot \\theta_r} \\cdot {sin\\theta_r} \\cdot (x - x_r) + {cos\\theta_r} \\cdot ({\\dot x} - {\\dot x_r}) +\n",
    "             {\\dot \\theta_r} \\cdot {cos\\theta_r} \\cdot (y - y_r) + {sin\\theta_r} \\cdot ({\\dot y} - {\\dot y_r}) \\nonumber \\\\\n",
    "         &= {w_r} \\cdot (-sin\\theta_r \\cdot (x - x_r) + cos\\theta_r \\cdot (y - y_r)) + \n",
    "            v \\cdot cos\\theta \\cdot cos\\theta_r - v_r \\cdot (cos\\theta_r)^2  +\n",
    "            v \\cdot sin\\theta \\cdot sin\\theta_r - v_r \\cdot (sin\\theta_r)^2\\nonumber \\\\\n",
    "         &= -v_r \\cdot ((cos\\theta_r)^2 + (sin\\theta_r)^2) + \n",
    "            v \\cdot cos(\\theta - \\theta_r) +\n",
    "            {w_r} \\cdot (-sin\\theta_r \\cdot (x - x_r) + cos\\theta_r \\cdot (y - y_r)) \\nonumber\\\\\n",
    "         &= -v_r + v \\cdot cos\\theta_e + w_r \\cdot y_e\n",
    "\\tag{3a}\\end{align}$$\n",
    "\n",
    "$$\\begin{align}\n",
    "\\dot y_e &= -{\\dot \\theta_r} \\cdot cos\\theta_r \\cdot(x - x_r) - sin\\theta_r \\cdot (\\dot x - \\dot x_r) - \n",
    "             {\\dot \\theta_r} \\cdot sin\\theta_r \\cdot (y - y_r) + cos\\theta_r \\cdot (\\dot y - \\dot y_r) \\nonumber \\\\\n",
    "         &= -v \\cdot cos\\theta \\cdot sin\\theta_r + v \\cdot cos\\theta_r \\cdot sin\\theta_r + v \\cdot sin\\theta \\cdot cos\\theta_r - v \\cdot sin\\theta_r \\cdot cos\\theta_r \n",
    "            -{\\dot \\theta_r} \\cdot (cos\\theta_r \\cdot (x - x_r) + sin\\theta_r \\cdot (y - y_r)) \\nonumber \\\\\n",
    "         &= v \\cdot (sin\\theta cos\\theta_r - cos\\theta sin\\theta_r) + (v \\cdot cos\\theta_r sin\\theta_r - v \\cdot sin\\theta_r cos\\theta_r)\n",
    "            -{\\dot \\theta_r} \\cdot (cos\\theta_r \\cdot (x - x_r) + sin\\theta_r \\cdot (y - y_r))\\nonumber \\\\\n",
    "         &= v \\cdot sin(\\theta - \\theta_r) - w_r \\cdot x_e \\nonumber \\\\\n",
    "         &= v \\cdot sin\\theta_e - w_r \\cdot x_e\n",
    "\\tag{3b}\\end{align}$$\n",
    "\n",
    "$$\\begin{align}\n",
    "\\dot \\theta_e = {\\dot \\theta - \\dot \\theta_r} = {w - w_r}\n",
    "\\tag{3c}\\end{align}$$\n",
    "\n",
    "综合上式可得:\n",
    "$$\n",
    "\\begin{bmatrix} {\\dot x_e} \\\\ {\\dot y_e} \\\\ {\\dot \\theta_e} \\end{bmatrix} =\n",
    "\\begin{bmatrix} {-v_r + v \\cdot cos\\theta_e + w_r \\cdot y_e} \\\\\n",
    "                {v \\cdot sin\\theta_e - w_r \\cdot x_e} \\\\\n",
    "                {w - w_r} \\end{bmatrix}\n",
    "\\tag{3}$$"
   ]
  },
  {
   "cell_type": "code",
   "execution_count": 24,
   "metadata": {},
   "outputs": [],
   "source": [
    "import numpy as np\n",
    "from scipy.integrate import odeint\n",
    "import matplotlib.pyplot as plt\n",
    "\n",
    "# 根据式(3)\n",
    "class ChassisTrackingError(object):\n",
    "    def __init__(self, err_init=[0., 0., 0.]):\n",
    "        self._x_e, self._y_e, self._th_e = err_init\n",
    "    \n",
    "    def f_state(self, err=[0., 0., 0.], t=0., ref=[1., 1.], u=[1., 1.]):\n",
    "        x_e, y_e, th_e = err\n",
    "        v_r, w_r = ref\n",
    "        v, w = u\n",
    "        return [-v_r + v * np.cos(th_e) + w_r * y_e,\n",
    "                v * np.sin(th_e) - w_r * x_e,\n",
    "                w - w_r]\n",
    "        \n",
    "    @property\n",
    "    def err(self):\n",
    "        return [self._x_e, self._y_e, self._th_e]\n",
    "    \n",
    "err_init = [500., 0., 0.]\n",
    "chassis_err = ChassisTrackingError()\n",
    "t_end = 10.\n",
    "tspan = np.arange(0, t_end, 0.1)\n",
    "sol = odeint(chassis_err.f_state, err_init, tspan)\n",
    "\n",
    "#fig, ax = plt.subplots(3, 1)\n",
    "#ax[0].plot(sol[:,0])\n",
    "#ax[1].plot(sol[:,1])\n",
    "#ax[2].plot(np.rad2deg(sol[:,2]))\n"
   ]
  },
  {
   "cell_type": "markdown",
   "metadata": {},
   "source": [
    "> Ren C, Ji J H, Yan H Y, et al. A backstepping control method for mobile robot path tracking[C]//3rd Annual International Conference on Mechanics and Mechanical Engineering (MME 2016). Atlantis Press, 2016: 680-687.\n",
    "\n",
    "同样地，定义误差模型（参考点相对于定位点的误差）：\n",
    "$$\n",
    "\\begin{bmatrix} {\\dot x_e} \\\\ {\\dot y_e} \\\\ {\\dot \\theta_e} \\end{bmatrix} =\n",
    "\\begin{bmatrix} {w \\cdot y_e -v + v_r \\cdot cos\\theta_e} \\\\\n",
    "                {- w \\cdot x_e + v_r \\cdot sin\\theta_e} \\\\\n",
    "                {w_r - w} \\end{bmatrix}\n",
    "\\tag{4}$$"
   ]
  },
  {
   "cell_type": "code",
   "execution_count": 33,
   "metadata": {},
   "outputs": [
    {
     "data": {
      "text/plain": [
       "[<matplotlib.lines.Line2D at 0x1c840563e50>]"
      ]
     },
     "execution_count": 33,
     "metadata": {},
     "output_type": "execute_result"
    },
    {
     "data": {
      "image/png": "[encoded data removed]",
      "text/plain": [
       "<Figure size 640x480 with 1 Axes>"
      ]
     },
     "metadata": {},
     "output_type": "display_data"
    }
   ],
   "source": [
    "def func(x):\n",
    "    return x*np.sin(np.arctan(x))\n",
    "\n",
    "def func1(x):\n",
    "    return x * x / np.sqrt(1+x**2)\n",
    "\n",
    "w = np.arange(-2*np.pi, 2*np.pi, 0.1)\n",
    "\n",
    "#fig, ax = plt.subplots()\n",
    "#ax.plot(w, func(w))\n",
    "#ax.plot(w, func1(w), 'r*')"
   ]
  }
 ],
 "metadata": {
  "kernelspec": {
   "display_name": "base",
   "language": "python",
   "name": "python3"
  },
  "language_info": {
   "codemirror_mode": {
    "name": "ipython",
    "version": 3
   },
   "file_extension": ".py",
   "mimetype": "text/x-python",
   "name": "python",
   "nbconvert_exporter": "python",
   "pygments_lexer": "ipython3",
   "version": "3.11.3"
  }
 },
 "nbformat": 4,
 "nbformat_minor": 2
}
